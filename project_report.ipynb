{
 "cells": [
  {
   "cell_type": "markdown",
   "id": "ef9c0c41-00a3-464f-a3e6-41d2bdf6cece",
   "metadata": {},
   "source": [
    "## Introduction\n",
    "Diabetes remains a pervasive and important health concern within contemporary healthcare and medical research. Individuals with diabetes encounter challenges either in insulin production or the efficient utilization of insulin for glucose processing, resulting in potential complications such as cardiovascular issues and nerve damage. The multifaceted nature of this condition emphasizes the significance of research efforts aimed at explaining predictive factors for diabetes onset. Notably, existing medical literature has established correlations between diabetes and various risk factors, including obesity, age, and other demographic variables.\n",
    "\n",
    "This project aims to address a pivotal question in the realm of diabetes research: Can the onset of diabetes be predicted based on an analysis of a patient's medical history and demographic data? To explore this question, we turn our attention to the diabetes prediction dataset meticulously curated by Mohammed Mustafa. Drawing from a global pool of medical and demographic data, this dataset contains a diverse array of features, including but not limited to age, body mass index (BMI), heart disease status, HbA1c level, and blood glucose level.\n",
    "\n",
    "In the pursuit of answering our research question, we draw inspiration from relevant studies, such as the work by Brown et al. (2015), which explores predictive modeling in the context of diabetes, and the research by Diabetes Care (2005), delving into the prediction of diabetes development in older populations. These references serve as foundational pillars, guiding our approach and establishing connections between our project and established research in the field.\n"
   ]
  },
  {
   "cell_type": "markdown",
   "id": "fe8aad92-1bd5-4608-b1bc-bfce08d3bc75",
   "metadata": {},
   "source": [
    "## Methods & Results"
   ]
  },
  {
   "cell_type": "code",
   "execution_count": 17,
   "id": "80c38ca2-b308-47f0-be51-c928e1827831",
   "metadata": {
    "tags": []
   },
   "outputs": [],
   "source": [
    "import pandas as pd\n",
    "import numpy as np\n",
    "from sklearn.model_selection import train_test_split\n",
    "from sklearn.utils import resample\n",
    "from sklearn.preprocessing import StandardScaler, OrdinalEncoder, OneHotEncoder\n",
    "from sklearn.compose import make_column_transformer\n",
    "from sklearn.compose import make_column_selector\n",
    "from sklearn.pipeline import make_pipeline\n",
    "from sklearn.neighbors import KNeighborsClassifier\n",
    "from sklearn.model_selection import GridSearchCV\n",
    "import altair as alt\n",
    "from sklearn.model_selection import cross_val_score\n",
    "\n",
    "# Disables maximum rows allowed for altair plots\n",
    "# alt.data_transformers.disable_max_rows()\n",
    "# Uncomment below to re-enable max rows\n",
    "# alt.data_transformers.enable('default', max_rows=5000)"
   ]
  },
  {
   "cell_type": "code",
   "execution_count": 18,
   "id": "b7eed57d-35bc-445c-8349-8d59132b82cf",
   "metadata": {
    "tags": []
   },
   "outputs": [
    {
     "data": {
      "text/html": [
       "<div>\n",
       "<style scoped>\n",
       "    .dataframe tbody tr th:only-of-type {\n",
       "        vertical-align: middle;\n",
       "    }\n",
       "\n",
       "    .dataframe tbody tr th {\n",
       "        vertical-align: top;\n",
       "    }\n",
       "\n",
       "    .dataframe thead th {\n",
       "        text-align: right;\n",
       "    }\n",
       "</style>\n",
       "<table border=\"1\" class=\"dataframe\">\n",
       "  <thead>\n",
       "    <tr style=\"text-align: right;\">\n",
       "      <th></th>\n",
       "      <th>gender</th>\n",
       "      <th>age</th>\n",
       "      <th>hypertension</th>\n",
       "      <th>heart_disease</th>\n",
       "      <th>smoking_history</th>\n",
       "      <th>bmi</th>\n",
       "      <th>HbA1c_level</th>\n",
       "      <th>blood_glucose_level</th>\n",
       "      <th>diabetes</th>\n",
       "    </tr>\n",
       "  </thead>\n",
       "  <tbody>\n",
       "    <tr>\n",
       "      <th>0</th>\n",
       "      <td>Female</td>\n",
       "      <td>80.0</td>\n",
       "      <td>0</td>\n",
       "      <td>1</td>\n",
       "      <td>never</td>\n",
       "      <td>25.19</td>\n",
       "      <td>6.6</td>\n",
       "      <td>140</td>\n",
       "      <td>0</td>\n",
       "    </tr>\n",
       "    <tr>\n",
       "      <th>1</th>\n",
       "      <td>Female</td>\n",
       "      <td>54.0</td>\n",
       "      <td>0</td>\n",
       "      <td>0</td>\n",
       "      <td>No Info</td>\n",
       "      <td>27.32</td>\n",
       "      <td>6.6</td>\n",
       "      <td>80</td>\n",
       "      <td>0</td>\n",
       "    </tr>\n",
       "    <tr>\n",
       "      <th>2</th>\n",
       "      <td>Male</td>\n",
       "      <td>28.0</td>\n",
       "      <td>0</td>\n",
       "      <td>0</td>\n",
       "      <td>never</td>\n",
       "      <td>27.32</td>\n",
       "      <td>5.7</td>\n",
       "      <td>158</td>\n",
       "      <td>0</td>\n",
       "    </tr>\n",
       "    <tr>\n",
       "      <th>3</th>\n",
       "      <td>Female</td>\n",
       "      <td>36.0</td>\n",
       "      <td>0</td>\n",
       "      <td>0</td>\n",
       "      <td>current</td>\n",
       "      <td>23.45</td>\n",
       "      <td>5.0</td>\n",
       "      <td>155</td>\n",
       "      <td>0</td>\n",
       "    </tr>\n",
       "    <tr>\n",
       "      <th>4</th>\n",
       "      <td>Male</td>\n",
       "      <td>76.0</td>\n",
       "      <td>1</td>\n",
       "      <td>1</td>\n",
       "      <td>current</td>\n",
       "      <td>20.14</td>\n",
       "      <td>4.8</td>\n",
       "      <td>155</td>\n",
       "      <td>0</td>\n",
       "    </tr>\n",
       "    <tr>\n",
       "      <th>...</th>\n",
       "      <td>...</td>\n",
       "      <td>...</td>\n",
       "      <td>...</td>\n",
       "      <td>...</td>\n",
       "      <td>...</td>\n",
       "      <td>...</td>\n",
       "      <td>...</td>\n",
       "      <td>...</td>\n",
       "      <td>...</td>\n",
       "    </tr>\n",
       "    <tr>\n",
       "      <th>99995</th>\n",
       "      <td>Female</td>\n",
       "      <td>80.0</td>\n",
       "      <td>0</td>\n",
       "      <td>0</td>\n",
       "      <td>No Info</td>\n",
       "      <td>27.32</td>\n",
       "      <td>6.2</td>\n",
       "      <td>90</td>\n",
       "      <td>0</td>\n",
       "    </tr>\n",
       "    <tr>\n",
       "      <th>99996</th>\n",
       "      <td>Female</td>\n",
       "      <td>2.0</td>\n",
       "      <td>0</td>\n",
       "      <td>0</td>\n",
       "      <td>No Info</td>\n",
       "      <td>17.37</td>\n",
       "      <td>6.5</td>\n",
       "      <td>100</td>\n",
       "      <td>0</td>\n",
       "    </tr>\n",
       "    <tr>\n",
       "      <th>99997</th>\n",
       "      <td>Male</td>\n",
       "      <td>66.0</td>\n",
       "      <td>0</td>\n",
       "      <td>0</td>\n",
       "      <td>former</td>\n",
       "      <td>27.83</td>\n",
       "      <td>5.7</td>\n",
       "      <td>155</td>\n",
       "      <td>0</td>\n",
       "    </tr>\n",
       "    <tr>\n",
       "      <th>99998</th>\n",
       "      <td>Female</td>\n",
       "      <td>24.0</td>\n",
       "      <td>0</td>\n",
       "      <td>0</td>\n",
       "      <td>never</td>\n",
       "      <td>35.42</td>\n",
       "      <td>4.0</td>\n",
       "      <td>100</td>\n",
       "      <td>0</td>\n",
       "    </tr>\n",
       "    <tr>\n",
       "      <th>99999</th>\n",
       "      <td>Female</td>\n",
       "      <td>57.0</td>\n",
       "      <td>0</td>\n",
       "      <td>0</td>\n",
       "      <td>current</td>\n",
       "      <td>22.43</td>\n",
       "      <td>6.6</td>\n",
       "      <td>90</td>\n",
       "      <td>0</td>\n",
       "    </tr>\n",
       "  </tbody>\n",
       "</table>\n",
       "<p>100000 rows × 9 columns</p>\n",
       "</div>"
      ],
      "text/plain": [
       "       gender   age  hypertension  heart_disease smoking_history    bmi  \\\n",
       "0      Female  80.0             0              1           never  25.19   \n",
       "1      Female  54.0             0              0         No Info  27.32   \n",
       "2        Male  28.0             0              0           never  27.32   \n",
       "3      Female  36.0             0              0         current  23.45   \n",
       "4        Male  76.0             1              1         current  20.14   \n",
       "...       ...   ...           ...            ...             ...    ...   \n",
       "99995  Female  80.0             0              0         No Info  27.32   \n",
       "99996  Female   2.0             0              0         No Info  17.37   \n",
       "99997    Male  66.0             0              0          former  27.83   \n",
       "99998  Female  24.0             0              0           never  35.42   \n",
       "99999  Female  57.0             0              0         current  22.43   \n",
       "\n",
       "       HbA1c_level  blood_glucose_level  diabetes  \n",
       "0              6.6                  140         0  \n",
       "1              6.6                   80         0  \n",
       "2              5.7                  158         0  \n",
       "3              5.0                  155         0  \n",
       "4              4.8                  155         0  \n",
       "...            ...                  ...       ...  \n",
       "99995          6.2                   90         0  \n",
       "99996          6.5                  100         0  \n",
       "99997          5.7                  155         0  \n",
       "99998          4.0                  100         0  \n",
       "99999          6.6                   90         0  \n",
       "\n",
       "[100000 rows x 9 columns]"
      ]
     },
     "metadata": {},
     "output_type": "display_data"
    },
    {
     "name": "stdout",
     "output_type": "stream",
     "text": [
      "<class 'pandas.core.frame.DataFrame'>\n",
      "RangeIndex: 100000 entries, 0 to 99999\n",
      "Data columns (total 9 columns):\n",
      " #   Column               Non-Null Count   Dtype  \n",
      "---  ------               --------------   -----  \n",
      " 0   gender               100000 non-null  object \n",
      " 1   age                  100000 non-null  float64\n",
      " 2   hypertension         100000 non-null  int64  \n",
      " 3   heart_disease        100000 non-null  int64  \n",
      " 4   smoking_history      100000 non-null  object \n",
      " 5   bmi                  100000 non-null  float64\n",
      " 6   HbA1c_level          100000 non-null  float64\n",
      " 7   blood_glucose_level  100000 non-null  int64  \n",
      " 8   diabetes             100000 non-null  int64  \n",
      "dtypes: float64(3), int64(4), object(2)\n",
      "memory usage: 6.9+ MB\n"
     ]
    },
    {
     "data": {
      "text/plain": [
       "None"
      ]
     },
     "metadata": {},
     "output_type": "display_data"
    },
    {
     "data": {
      "text/plain": [
       "0    0.915\n",
       "1    0.085\n",
       "Name: diabetes, dtype: float64"
      ]
     },
     "execution_count": 18,
     "metadata": {},
     "output_type": "execute_result"
    }
   ],
   "source": [
    "url = \"https://drive.google.com/file/d/1dTmTAiRGM5skZzMb9NwpOkcQrY0Dpq6t/view?usp=sharing\"\n",
    "url = 'https://drive.google.com/uc?id=' + url.split('/')[-2]\n",
    "diabetes = pd.read_csv(url) #read data\n",
    "display(diabetes)\n",
    "display(diabetes.info())\n",
    "diabetes[\"diabetes\"].value_counts(normalize = True) #show classification variable distribution"
   ]
  },
  {
   "cell_type": "markdown",
   "id": "f2d71b52-0d33-4754-bc56-9f5d83f12c85",
   "metadata": {},
   "source": [
    "Next we need to resample the data to create an even distribution of positive and negative labels."
   ]
  },
  {
   "cell_type": "code",
   "execution_count": 19,
   "id": "8d299c96-f3cb-4de4-a24c-d91a054c01e1",
   "metadata": {
    "tags": []
   },
   "outputs": [
    {
     "data": {
      "text/plain": [
       "1    0.5\n",
       "0    0.5\n",
       "Name: diabetes, dtype: float64"
      ]
     },
     "metadata": {},
     "output_type": "display_data"
    },
    {
     "name": "stdout",
     "output_type": "stream",
     "text": [
      "<class 'pandas.core.frame.DataFrame'>\n",
      "Int64Index: 17000 entries, 6 to 50426\n",
      "Data columns (total 9 columns):\n",
      " #   Column               Non-Null Count  Dtype  \n",
      "---  ------               --------------  -----  \n",
      " 0   gender               17000 non-null  object \n",
      " 1   age                  17000 non-null  float64\n",
      " 2   hypertension         17000 non-null  int64  \n",
      " 3   heart_disease        17000 non-null  int64  \n",
      " 4   smoking_history      17000 non-null  object \n",
      " 5   bmi                  17000 non-null  float64\n",
      " 6   HbA1c_level          17000 non-null  float64\n",
      " 7   blood_glucose_level  17000 non-null  int64  \n",
      " 8   diabetes             17000 non-null  int64  \n",
      "dtypes: float64(3), int64(4), object(2)\n",
      "memory usage: 1.3+ MB\n"
     ]
    }
   ],
   "source": [
    "np.random.seed(1) # set seed\n",
    "\n",
    "diabetes_negative = diabetes[diabetes[\"diabetes\"] == 0] #create even amounts of positive and negative labels\n",
    "diabetes_positive = diabetes[diabetes[\"diabetes\"] == 1]\n",
    "diabetes_negative_downscaled = resample(\n",
    "    diabetes_negative, n_samples = diabetes_positive.shape[0]\n",
    ")\n",
    "diabetes_negative_downscaled.shape[0]\n",
    "diabetes_downsampled = pd.concat((diabetes_positive, diabetes_negative_downscaled))\n",
    "display(diabetes_downsampled[\"diabetes\"].value_counts(normalize = True))\n",
    "diabetes_downsampled.info()"
   ]
  },
  {
   "cell_type": "markdown",
   "id": "876e93c7-0e3c-4cfd-9c4c-ff14bb8b5344",
   "metadata": {},
   "source": [
    "Now that the data is resampled we can create the train/test split"
   ]
  },
  {
   "cell_type": "code",
   "execution_count": 20,
   "id": "bb5160a2-1cc4-4891-a873-d7935fa6476e",
   "metadata": {
    "tags": []
   },
   "outputs": [
    {
     "name": "stdout",
     "output_type": "stream",
     "text": [
      "<class 'pandas.core.frame.DataFrame'>\n",
      "Int64Index: 12750 entries, 7874 to 68193\n",
      "Data columns (total 9 columns):\n",
      " #   Column               Non-Null Count  Dtype  \n",
      "---  ------               --------------  -----  \n",
      " 0   gender               12750 non-null  object \n",
      " 1   age                  12750 non-null  float64\n",
      " 2   hypertension         12750 non-null  int64  \n",
      " 3   heart_disease        12750 non-null  int64  \n",
      " 4   smoking_history      12750 non-null  object \n",
      " 5   bmi                  12750 non-null  float64\n",
      " 6   HbA1c_level          12750 non-null  float64\n",
      " 7   blood_glucose_level  12750 non-null  int64  \n",
      " 8   diabetes             12750 non-null  int64  \n",
      "dtypes: float64(3), int64(4), object(2)\n",
      "memory usage: 996.1+ KB\n"
     ]
    },
    {
     "data": {
      "text/plain": [
       "None"
      ]
     },
     "metadata": {},
     "output_type": "display_data"
    },
    {
     "data": {
      "text/plain": [
       "0    0.5\n",
       "1    0.5\n",
       "Name: diabetes, dtype: float64"
      ]
     },
     "execution_count": 20,
     "metadata": {},
     "output_type": "execute_result"
    }
   ],
   "source": [
    "diabetes_train, diabetes_test = train_test_split(\n",
    "    diabetes_downsampled, train_size = .75, stratify = (diabetes_downsampled[\"diabetes\"]), random_state=42 # split data\n",
    ")\n",
    "display(diabetes_train.info())\n",
    "diabetes_train[\"diabetes\"].value_counts(normalize = True)"
   ]
  },
  {
   "cell_type": "markdown",
   "id": "d6752515-f9ec-4926-a809-515c1e656615",
   "metadata": {},
   "source": [
    "Now we filter the data to the numeric columns to aggregate and observe trends, and then do the same with categorical values using ``value_counts``"
   ]
  },
  {
   "cell_type": "code",
   "execution_count": 21,
   "id": "c979e358-af1d-4858-bc7a-4c6cd8f4790f",
   "metadata": {
    "tags": []
   },
   "outputs": [
    {
     "data": {
      "text/html": [
       "<div>\n",
       "<style scoped>\n",
       "    .dataframe tbody tr th:only-of-type {\n",
       "        vertical-align: middle;\n",
       "    }\n",
       "\n",
       "    .dataframe tbody tr th {\n",
       "        vertical-align: top;\n",
       "    }\n",
       "\n",
       "    .dataframe thead th {\n",
       "        text-align: right;\n",
       "    }\n",
       "</style>\n",
       "<table border=\"1\" class=\"dataframe\">\n",
       "  <thead>\n",
       "    <tr style=\"text-align: right;\">\n",
       "      <th></th>\n",
       "      <th>age</th>\n",
       "      <th>heart_disease</th>\n",
       "      <th>bmi</th>\n",
       "      <th>HbA1c_level</th>\n",
       "      <th>blood_glucose_level</th>\n",
       "    </tr>\n",
       "  </thead>\n",
       "  <tbody>\n",
       "    <tr>\n",
       "      <th>mean</th>\n",
       "      <td>50.535948</td>\n",
       "      <td>0.089294</td>\n",
       "      <td>29.432829</td>\n",
       "      <td>6.164053</td>\n",
       "      <td>163.706529</td>\n",
       "    </tr>\n",
       "    <tr>\n",
       "      <th>std</th>\n",
       "      <td>21.495405</td>\n",
       "      <td>0.285176</td>\n",
       "      <td>7.459182</td>\n",
       "      <td>1.283300</td>\n",
       "      <td>56.797977</td>\n",
       "    </tr>\n",
       "  </tbody>\n",
       "</table>\n",
       "</div>"
      ],
      "text/plain": [
       "            age  heart_disease        bmi  HbA1c_level  blood_glucose_level\n",
       "mean  50.535948       0.089294  29.432829     6.164053           163.706529\n",
       "std   21.495405       0.285176   7.459182     1.283300            56.797977"
      ]
     },
     "metadata": {},
     "output_type": "display_data"
    },
    {
     "data": {
      "text/html": [
       "<div>\n",
       "<style scoped>\n",
       "    .dataframe tbody tr th:only-of-type {\n",
       "        vertical-align: middle;\n",
       "    }\n",
       "\n",
       "    .dataframe tbody tr th {\n",
       "        vertical-align: top;\n",
       "    }\n",
       "\n",
       "    .dataframe thead th {\n",
       "        text-align: right;\n",
       "    }\n",
       "</style>\n",
       "<table border=\"1\" class=\"dataframe\">\n",
       "  <thead>\n",
       "    <tr style=\"text-align: right;\">\n",
       "      <th></th>\n",
       "      <th>age</th>\n",
       "      <th>heart_disease</th>\n",
       "      <th>bmi</th>\n",
       "      <th>HbA1c_level</th>\n",
       "      <th>blood_glucose_level</th>\n",
       "    </tr>\n",
       "  </thead>\n",
       "  <tbody>\n",
       "    <tr>\n",
       "      <th>mean</th>\n",
       "      <td>50.556235</td>\n",
       "      <td>0.088392</td>\n",
       "      <td>29.419256</td>\n",
       "      <td>6.167953</td>\n",
       "      <td>163.655137</td>\n",
       "    </tr>\n",
       "    <tr>\n",
       "      <th>std</th>\n",
       "      <td>21.530418</td>\n",
       "      <td>0.283876</td>\n",
       "      <td>7.493883</td>\n",
       "      <td>1.286576</td>\n",
       "      <td>56.873874</td>\n",
       "    </tr>\n",
       "  </tbody>\n",
       "</table>\n",
       "</div>"
      ],
      "text/plain": [
       "            age  heart_disease        bmi  HbA1c_level  blood_glucose_level\n",
       "mean  50.556235       0.088392  29.419256     6.167953           163.655137\n",
       "std   21.530418       0.283876   7.493883     1.286576            56.873874"
      ]
     },
     "metadata": {},
     "output_type": "display_data"
    }
   ],
   "source": [
    "diabetes_stats_downsample = diabetes_downsampled.drop([\"gender\", \"hypertension\", \"smoking_history\", \"diabetes\"], axis=1) # find mean values\n",
    "display(diabetes_stats_downsample.agg([\"mean\",\"std\"]))\n",
    "diabetes_stats = diabetes_train.drop([\"gender\", \"hypertension\", \"smoking_history\", \"diabetes\"], axis=1) # find mean values\n",
    "display(diabetes_stats.agg([\"mean\",\"std\"])) #show average + variability demographics for survey\n",
    "#display(diabetes[\"gender\"].value_counts(normalize = True))\n",
    "#display(diabetes[\"hypertension\"].value_counts(normalize = True))\n",
    "#display(diabetes[\"smoking_history\"].value_counts(normalize = True))"
   ]
  },
  {
   "cell_type": "markdown",
   "id": "245149c0-c962-4f3e-bd74-ab09e0594ed1",
   "metadata": {},
   "source": [
    "Next we'll make the preprocessor to use in K Means Classification"
   ]
  },
  {
   "cell_type": "code",
   "execution_count": 22,
   "id": "28a7fb57-e8ee-4f68-aca3-38bd89d4bc33",
   "metadata": {
    "tags": []
   },
   "outputs": [
    {
     "data": {
      "text/html": [
       "<style>#sk-container-id-2 {color: black;background-color: white;}#sk-container-id-2 pre{padding: 0;}#sk-container-id-2 div.sk-toggleable {background-color: white;}#sk-container-id-2 label.sk-toggleable__label {cursor: pointer;display: block;width: 100%;margin-bottom: 0;padding: 0.3em;box-sizing: border-box;text-align: center;}#sk-container-id-2 label.sk-toggleable__label-arrow:before {content: \"▸\";float: left;margin-right: 0.25em;color: #696969;}#sk-container-id-2 label.sk-toggleable__label-arrow:hover:before {color: black;}#sk-container-id-2 div.sk-estimator:hover label.sk-toggleable__label-arrow:before {color: black;}#sk-container-id-2 div.sk-toggleable__content {max-height: 0;max-width: 0;overflow: hidden;text-align: left;background-color: #f0f8ff;}#sk-container-id-2 div.sk-toggleable__content pre {margin: 0.2em;color: black;border-radius: 0.25em;background-color: #f0f8ff;}#sk-container-id-2 input.sk-toggleable__control:checked~div.sk-toggleable__content {max-height: 200px;max-width: 100%;overflow: auto;}#sk-container-id-2 input.sk-toggleable__control:checked~label.sk-toggleable__label-arrow:before {content: \"▾\";}#sk-container-id-2 div.sk-estimator input.sk-toggleable__control:checked~label.sk-toggleable__label {background-color: #d4ebff;}#sk-container-id-2 div.sk-label input.sk-toggleable__control:checked~label.sk-toggleable__label {background-color: #d4ebff;}#sk-container-id-2 input.sk-hidden--visually {border: 0;clip: rect(1px 1px 1px 1px);clip: rect(1px, 1px, 1px, 1px);height: 1px;margin: -1px;overflow: hidden;padding: 0;position: absolute;width: 1px;}#sk-container-id-2 div.sk-estimator {font-family: monospace;background-color: #f0f8ff;border: 1px dotted black;border-radius: 0.25em;box-sizing: border-box;margin-bottom: 0.5em;}#sk-container-id-2 div.sk-estimator:hover {background-color: #d4ebff;}#sk-container-id-2 div.sk-parallel-item::after {content: \"\";width: 100%;border-bottom: 1px solid gray;flex-grow: 1;}#sk-container-id-2 div.sk-label:hover label.sk-toggleable__label {background-color: #d4ebff;}#sk-container-id-2 div.sk-serial::before {content: \"\";position: absolute;border-left: 1px solid gray;box-sizing: border-box;top: 0;bottom: 0;left: 50%;z-index: 0;}#sk-container-id-2 div.sk-serial {display: flex;flex-direction: column;align-items: center;background-color: white;padding-right: 0.2em;padding-left: 0.2em;position: relative;}#sk-container-id-2 div.sk-item {position: relative;z-index: 1;}#sk-container-id-2 div.sk-parallel {display: flex;align-items: stretch;justify-content: center;background-color: white;position: relative;}#sk-container-id-2 div.sk-item::before, #sk-container-id-2 div.sk-parallel-item::before {content: \"\";position: absolute;border-left: 1px solid gray;box-sizing: border-box;top: 0;bottom: 0;left: 50%;z-index: -1;}#sk-container-id-2 div.sk-parallel-item {display: flex;flex-direction: column;z-index: 1;position: relative;background-color: white;}#sk-container-id-2 div.sk-parallel-item:first-child::after {align-self: flex-end;width: 50%;}#sk-container-id-2 div.sk-parallel-item:last-child::after {align-self: flex-start;width: 50%;}#sk-container-id-2 div.sk-parallel-item:only-child::after {width: 0;}#sk-container-id-2 div.sk-dashed-wrapped {border: 1px dashed gray;margin: 0 0.4em 0.5em 0.4em;box-sizing: border-box;padding-bottom: 0.4em;background-color: white;}#sk-container-id-2 div.sk-label label {font-family: monospace;font-weight: bold;display: inline-block;line-height: 1.2em;}#sk-container-id-2 div.sk-label-container {text-align: center;}#sk-container-id-2 div.sk-container {/* jupyter's `normalize.less` sets `[hidden] { display: none; }` but bootstrap.min.css set `[hidden] { display: none !important; }` so we also need the `!important` here to be able to override the default hidden behavior on the sphinx rendered scikit-learn.org. See: https://github.com/scikit-learn/scikit-learn/issues/21755 */display: inline-block !important;position: relative;}#sk-container-id-2 div.sk-text-repr-fallback {display: none;}</style><div id=\"sk-container-id-2\" class=\"sk-top-container\"><div class=\"sk-text-repr-fallback\"><pre>ColumnTransformer(transformers=[(&#x27;standardscaler&#x27;, StandardScaler(),\n",
       "                                 [&#x27;age&#x27;, &#x27;bmi&#x27;, &#x27;HbA1c_level&#x27;,\n",
       "                                  &#x27;blood_glucose_level&#x27;])])</pre><b>In a Jupyter environment, please rerun this cell to show the HTML representation or trust the notebook. <br />On GitHub, the HTML representation is unable to render, please try loading this page with nbviewer.org.</b></div><div class=\"sk-container\" hidden><div class=\"sk-item sk-dashed-wrapped\"><div class=\"sk-label-container\"><div class=\"sk-label sk-toggleable\"><input class=\"sk-toggleable__control sk-hidden--visually\" id=\"sk-estimator-id-4\" type=\"checkbox\" ><label for=\"sk-estimator-id-4\" class=\"sk-toggleable__label sk-toggleable__label-arrow\">ColumnTransformer</label><div class=\"sk-toggleable__content\"><pre>ColumnTransformer(transformers=[(&#x27;standardscaler&#x27;, StandardScaler(),\n",
       "                                 [&#x27;age&#x27;, &#x27;bmi&#x27;, &#x27;HbA1c_level&#x27;,\n",
       "                                  &#x27;blood_glucose_level&#x27;])])</pre></div></div></div><div class=\"sk-parallel\"><div class=\"sk-parallel-item\"><div class=\"sk-item\"><div class=\"sk-label-container\"><div class=\"sk-label sk-toggleable\"><input class=\"sk-toggleable__control sk-hidden--visually\" id=\"sk-estimator-id-5\" type=\"checkbox\" ><label for=\"sk-estimator-id-5\" class=\"sk-toggleable__label sk-toggleable__label-arrow\">standardscaler</label><div class=\"sk-toggleable__content\"><pre>[&#x27;age&#x27;, &#x27;bmi&#x27;, &#x27;HbA1c_level&#x27;, &#x27;blood_glucose_level&#x27;]</pre></div></div></div><div class=\"sk-serial\"><div class=\"sk-item\"><div class=\"sk-estimator sk-toggleable\"><input class=\"sk-toggleable__control sk-hidden--visually\" id=\"sk-estimator-id-6\" type=\"checkbox\" ><label for=\"sk-estimator-id-6\" class=\"sk-toggleable__label sk-toggleable__label-arrow\">StandardScaler</label><div class=\"sk-toggleable__content\"><pre>StandardScaler()</pre></div></div></div></div></div></div></div></div></div></div>"
      ],
      "text/plain": [
       "ColumnTransformer(transformers=[('standardscaler', StandardScaler(),\n",
       "                                 ['age', 'bmi', 'HbA1c_level',\n",
       "                                  'blood_glucose_level'])])"
      ]
     },
     "execution_count": 22,
     "metadata": {},
     "output_type": "execute_result"
    }
   ],
   "source": [
    "feature_names = [\"age\", \"bmi\", \"HbA1c_level\", \"blood_glucose_level\"]\n",
    "\n",
    "diabetes_preprocessor = make_column_transformer(\n",
    "    (StandardScaler(), feature_names),\n",
    ")\n",
    "diabetes_preprocessor"
   ]
  },
  {
   "cell_type": "code",
   "execution_count": 23,
   "id": "1fd7e034-48df-4371-8c08-79cc90809cf0",
   "metadata": {
    "tags": []
   },
   "outputs": [
    {
     "data": {
      "text/html": [
       "<div>\n",
       "<style scoped>\n",
       "    .dataframe tbody tr th:only-of-type {\n",
       "        vertical-align: middle;\n",
       "    }\n",
       "\n",
       "    .dataframe tbody tr th {\n",
       "        vertical-align: top;\n",
       "    }\n",
       "\n",
       "    .dataframe thead th {\n",
       "        text-align: right;\n",
       "    }\n",
       "</style>\n",
       "<table border=\"1\" class=\"dataframe\">\n",
       "  <thead>\n",
       "    <tr style=\"text-align: right;\">\n",
       "      <th></th>\n",
       "      <th>age</th>\n",
       "      <th>bmi</th>\n",
       "      <th>HbA1c_level</th>\n",
       "      <th>blood_glucose_level</th>\n",
       "    </tr>\n",
       "  </thead>\n",
       "  <tbody>\n",
       "    <tr>\n",
       "      <th>0</th>\n",
       "      <td>1.692704</td>\n",
       "      <td>-0.321056</td>\n",
       "      <td>1.001706</td>\n",
       "      <td>0.047704</td>\n",
       "    </tr>\n",
       "    <tr>\n",
       "      <th>1</th>\n",
       "      <td>0.538006</td>\n",
       "      <td>-0.000116</td>\n",
       "      <td>1.001706</td>\n",
       "      <td>-1.426210</td>\n",
       "    </tr>\n",
       "    <tr>\n",
       "      <th>2</th>\n",
       "      <td>-0.616691</td>\n",
       "      <td>-0.000116</td>\n",
       "      <td>0.161108</td>\n",
       "      <td>0.489878</td>\n",
       "    </tr>\n",
       "    <tr>\n",
       "      <th>3</th>\n",
       "      <td>-0.261399</td>\n",
       "      <td>-0.583232</td>\n",
       "      <td>-0.492690</td>\n",
       "      <td>0.416183</td>\n",
       "    </tr>\n",
       "    <tr>\n",
       "      <th>4</th>\n",
       "      <td>1.515058</td>\n",
       "      <td>-1.081970</td>\n",
       "      <td>-0.679490</td>\n",
       "      <td>0.416183</td>\n",
       "    </tr>\n",
       "    <tr>\n",
       "      <th>...</th>\n",
       "      <td>...</td>\n",
       "      <td>...</td>\n",
       "      <td>...</td>\n",
       "      <td>...</td>\n",
       "    </tr>\n",
       "    <tr>\n",
       "      <th>99995</th>\n",
       "      <td>1.692704</td>\n",
       "      <td>-0.000116</td>\n",
       "      <td>0.628107</td>\n",
       "      <td>-1.180558</td>\n",
       "    </tr>\n",
       "    <tr>\n",
       "      <th>99996</th>\n",
       "      <td>-1.771388</td>\n",
       "      <td>-1.499343</td>\n",
       "      <td>0.908306</td>\n",
       "      <td>-0.934905</td>\n",
       "    </tr>\n",
       "    <tr>\n",
       "      <th>99997</th>\n",
       "      <td>1.070944</td>\n",
       "      <td>0.076729</td>\n",
       "      <td>0.161108</td>\n",
       "      <td>0.416183</td>\n",
       "    </tr>\n",
       "    <tr>\n",
       "      <th>99998</th>\n",
       "      <td>-0.794336</td>\n",
       "      <td>1.220361</td>\n",
       "      <td>-1.426688</td>\n",
       "      <td>-0.934905</td>\n",
       "    </tr>\n",
       "    <tr>\n",
       "      <th>99999</th>\n",
       "      <td>0.671241</td>\n",
       "      <td>-0.736922</td>\n",
       "      <td>1.001706</td>\n",
       "      <td>-1.180558</td>\n",
       "    </tr>\n",
       "  </tbody>\n",
       "</table>\n",
       "<p>100000 rows × 4 columns</p>\n",
       "</div>"
      ],
      "text/plain": [
       "            age       bmi  HbA1c_level  blood_glucose_level\n",
       "0      1.692704 -0.321056     1.001706             0.047704\n",
       "1      0.538006 -0.000116     1.001706            -1.426210\n",
       "2     -0.616691 -0.000116     0.161108             0.489878\n",
       "3     -0.261399 -0.583232    -0.492690             0.416183\n",
       "4      1.515058 -1.081970    -0.679490             0.416183\n",
       "...         ...       ...          ...                  ...\n",
       "99995  1.692704 -0.000116     0.628107            -1.180558\n",
       "99996 -1.771388 -1.499343     0.908306            -0.934905\n",
       "99997  1.070944  0.076729     0.161108             0.416183\n",
       "99998 -0.794336  1.220361    -1.426688            -0.934905\n",
       "99999  0.671241 -0.736922     1.001706            -1.180558\n",
       "\n",
       "[100000 rows x 4 columns]"
      ]
     },
     "execution_count": 23,
     "metadata": {},
     "output_type": "execute_result"
    }
   ],
   "source": [
    "diabetes_preprocessor.fit(diabetes)\n",
    "diabetes_scaled = diabetes_preprocessor.transform(diabetes)\n",
    "diabetes_scaled_df = pd.DataFrame(diabetes_scaled, columns=feature_names)\n",
    "diabetes_scaled_df"
   ]
  },
  {
   "cell_type": "markdown",
   "id": "d10081d2-6406-4405-87b7-4d81c18deb06",
   "metadata": {},
   "source": [
    "Using our preprocessor, we can train a new model."
   ]
  },
  {
   "cell_type": "code",
   "execution_count": 24,
   "id": "a0009b2c-9295-4d4b-a2bb-853ba1ec4aa8",
   "metadata": {},
   "outputs": [
    {
     "name": "stdout",
     "output_type": "stream",
     "text": [
      "average cv score: 0.8830588235294119 ± 0.005887056942680853\n"
     ]
    }
   ],
   "source": [
    "diabetes_pipe_knn = make_pipeline(diabetes_preprocessor, KNeighborsClassifier())\n",
    "\n",
    "X_train = diabetes_train[[\"age\", \"bmi\", \"HbA1c_level\", \"blood_glucose_level\"]]\n",
    "y_train = diabetes_train[\"diabetes\"]\n",
    "\n",
    "cv_scores = cross_val_score(diabetes_pipe_knn, X_train, y_train, cv=5, scoring='accuracy')\n",
    "\n",
    "cv_scores_std = np.std(cv_scores)\n",
    "print(\"average cv score:\", cv_scores.mean(), \"±\", cv_scores_std)"
   ]
  },
  {
   "cell_type": "markdown",
   "id": "f300cff4-76c7-44e8-8fb4-670093059458",
   "metadata": {},
   "source": [
    "Here, we see a score of __ . This is fine, however let's see if we can improve our score by tuning the `n_neighbors` hyperparameter in `KNeighborsClassifier()`."
   ]
  },
  {
   "cell_type": "markdown",
   "id": "30478f46-ebdc-4cfa-a48f-0ca88f177389",
   "metadata": {},
   "source": [
    "### Hyperparameter Optimization\n",
    "Now, we'll make a GridSearch CV object and a range of potential K values to find the best K value"
   ]
  },
  {
   "cell_type": "code",
   "execution_count": 25,
   "id": "bf46635c-f364-4c52-b20d-b7637b0ac746",
   "metadata": {
    "tags": []
   },
   "outputs": [
    {
     "data": {
      "text/html": [
       "<div>\n",
       "<style scoped>\n",
       "    .dataframe tbody tr th:only-of-type {\n",
       "        vertical-align: middle;\n",
       "    }\n",
       "\n",
       "    .dataframe tbody tr th {\n",
       "        vertical-align: top;\n",
       "    }\n",
       "\n",
       "    .dataframe thead th {\n",
       "        text-align: right;\n",
       "    }\n",
       "</style>\n",
       "<table border=\"1\" class=\"dataframe\">\n",
       "  <thead>\n",
       "    <tr style=\"text-align: right;\">\n",
       "      <th></th>\n",
       "      <th>n_neighbors</th>\n",
       "      <th>mean_test_score</th>\n",
       "      <th>sem_test_score</th>\n",
       "    </tr>\n",
       "  </thead>\n",
       "  <tbody>\n",
       "    <tr>\n",
       "      <th>0</th>\n",
       "      <td>1</td>\n",
       "      <td>0.873020</td>\n",
       "      <td>0.001770</td>\n",
       "    </tr>\n",
       "    <tr>\n",
       "      <th>1</th>\n",
       "      <td>3</td>\n",
       "      <td>0.877882</td>\n",
       "      <td>0.002248</td>\n",
       "    </tr>\n",
       "    <tr>\n",
       "      <th>2</th>\n",
       "      <td>5</td>\n",
       "      <td>0.883059</td>\n",
       "      <td>0.001862</td>\n",
       "    </tr>\n",
       "    <tr>\n",
       "      <th>3</th>\n",
       "      <td>7</td>\n",
       "      <td>0.887843</td>\n",
       "      <td>0.001569</td>\n",
       "    </tr>\n",
       "    <tr>\n",
       "      <th>4</th>\n",
       "      <td>9</td>\n",
       "      <td>0.888941</td>\n",
       "      <td>0.001294</td>\n",
       "    </tr>\n",
       "    <tr>\n",
       "      <th>5</th>\n",
       "      <td>11</td>\n",
       "      <td>0.892863</td>\n",
       "      <td>0.001753</td>\n",
       "    </tr>\n",
       "    <tr>\n",
       "      <th>6</th>\n",
       "      <td>13</td>\n",
       "      <td>0.894039</td>\n",
       "      <td>0.001591</td>\n",
       "    </tr>\n",
       "    <tr>\n",
       "      <th>7</th>\n",
       "      <td>15</td>\n",
       "      <td>0.893020</td>\n",
       "      <td>0.001550</td>\n",
       "    </tr>\n",
       "    <tr>\n",
       "      <th>8</th>\n",
       "      <td>17</td>\n",
       "      <td>0.892627</td>\n",
       "      <td>0.001156</td>\n",
       "    </tr>\n",
       "    <tr>\n",
       "      <th>9</th>\n",
       "      <td>19</td>\n",
       "      <td>0.893725</td>\n",
       "      <td>0.000976</td>\n",
       "    </tr>\n",
       "    <tr>\n",
       "      <th>10</th>\n",
       "      <td>21</td>\n",
       "      <td>0.893961</td>\n",
       "      <td>0.000759</td>\n",
       "    </tr>\n",
       "    <tr>\n",
       "      <th>11</th>\n",
       "      <td>23</td>\n",
       "      <td>0.894510</td>\n",
       "      <td>0.001347</td>\n",
       "    </tr>\n",
       "    <tr>\n",
       "      <th>12</th>\n",
       "      <td>25</td>\n",
       "      <td>0.894588</td>\n",
       "      <td>0.000835</td>\n",
       "    </tr>\n",
       "    <tr>\n",
       "      <th>13</th>\n",
       "      <td>27</td>\n",
       "      <td>0.894824</td>\n",
       "      <td>0.000820</td>\n",
       "    </tr>\n",
       "    <tr>\n",
       "      <th>14</th>\n",
       "      <td>29</td>\n",
       "      <td>0.895216</td>\n",
       "      <td>0.000913</td>\n",
       "    </tr>\n",
       "    <tr>\n",
       "      <th>15</th>\n",
       "      <td>31</td>\n",
       "      <td>0.896549</td>\n",
       "      <td>0.000528</td>\n",
       "    </tr>\n",
       "    <tr>\n",
       "      <th>16</th>\n",
       "      <td>33</td>\n",
       "      <td>0.894824</td>\n",
       "      <td>0.000505</td>\n",
       "    </tr>\n",
       "    <tr>\n",
       "      <th>17</th>\n",
       "      <td>35</td>\n",
       "      <td>0.894980</td>\n",
       "      <td>0.000625</td>\n",
       "    </tr>\n",
       "    <tr>\n",
       "      <th>18</th>\n",
       "      <td>37</td>\n",
       "      <td>0.894902</td>\n",
       "      <td>0.000898</td>\n",
       "    </tr>\n",
       "    <tr>\n",
       "      <th>19</th>\n",
       "      <td>39</td>\n",
       "      <td>0.895608</td>\n",
       "      <td>0.000511</td>\n",
       "    </tr>\n",
       "    <tr>\n",
       "      <th>20</th>\n",
       "      <td>41</td>\n",
       "      <td>0.894118</td>\n",
       "      <td>0.000719</td>\n",
       "    </tr>\n",
       "    <tr>\n",
       "      <th>21</th>\n",
       "      <td>43</td>\n",
       "      <td>0.895373</td>\n",
       "      <td>0.000253</td>\n",
       "    </tr>\n",
       "    <tr>\n",
       "      <th>22</th>\n",
       "      <td>45</td>\n",
       "      <td>0.894353</td>\n",
       "      <td>0.000289</td>\n",
       "    </tr>\n",
       "    <tr>\n",
       "      <th>23</th>\n",
       "      <td>47</td>\n",
       "      <td>0.893882</td>\n",
       "      <td>0.000500</td>\n",
       "    </tr>\n",
       "    <tr>\n",
       "      <th>24</th>\n",
       "      <td>49</td>\n",
       "      <td>0.893961</td>\n",
       "      <td>0.000821</td>\n",
       "    </tr>\n",
       "    <tr>\n",
       "      <th>25</th>\n",
       "      <td>51</td>\n",
       "      <td>0.893255</td>\n",
       "      <td>0.000853</td>\n",
       "    </tr>\n",
       "    <tr>\n",
       "      <th>26</th>\n",
       "      <td>53</td>\n",
       "      <td>0.893176</td>\n",
       "      <td>0.000763</td>\n",
       "    </tr>\n",
       "    <tr>\n",
       "      <th>27</th>\n",
       "      <td>55</td>\n",
       "      <td>0.892863</td>\n",
       "      <td>0.000939</td>\n",
       "    </tr>\n",
       "    <tr>\n",
       "      <th>28</th>\n",
       "      <td>57</td>\n",
       "      <td>0.892627</td>\n",
       "      <td>0.000857</td>\n",
       "    </tr>\n",
       "    <tr>\n",
       "      <th>29</th>\n",
       "      <td>59</td>\n",
       "      <td>0.893490</td>\n",
       "      <td>0.000843</td>\n",
       "    </tr>\n",
       "  </tbody>\n",
       "</table>\n",
       "</div>"
      ],
      "text/plain": [
       "   n_neighbors  mean_test_score  sem_test_score\n",
       "0            1         0.873020        0.001770\n",
       "1            3         0.877882        0.002248\n",
       "2            5         0.883059        0.001862\n",
       "3            7         0.887843        0.001569\n",
       "4            9         0.888941        0.001294\n",
       "5           11         0.892863        0.001753\n",
       "6           13         0.894039        0.001591\n",
       "7           15         0.893020        0.001550\n",
       "8           17         0.892627        0.001156\n",
       "9           19         0.893725        0.000976\n",
       "10          21         0.893961        0.000759\n",
       "11          23         0.894510        0.001347\n",
       "12          25         0.894588        0.000835\n",
       "13          27         0.894824        0.000820\n",
       "14          29         0.895216        0.000913\n",
       "15          31         0.896549        0.000528\n",
       "16          33         0.894824        0.000505\n",
       "17          35         0.894980        0.000625\n",
       "18          37         0.894902        0.000898\n",
       "19          39         0.895608        0.000511\n",
       "20          41         0.894118        0.000719\n",
       "21          43         0.895373        0.000253\n",
       "22          45         0.894353        0.000289\n",
       "23          47         0.893882        0.000500\n",
       "24          49         0.893961        0.000821\n",
       "25          51         0.893255        0.000853\n",
       "26          53         0.893176        0.000763\n",
       "27          55         0.892863        0.000939\n",
       "28          57         0.892627        0.000857\n",
       "29          59         0.893490        0.000843"
      ]
     },
     "execution_count": 25,
     "metadata": {},
     "output_type": "execute_result"
    }
   ],
   "source": [
    "diabetes_grid = {\n",
    "    \"kneighborsclassifier__n_neighbors\"  : range(\n",
    "        1,60, 2),\n",
    "}\n",
    "diabetes_pipe = make_pipeline(diabetes_preprocessor, KNeighborsClassifier())\n",
    "diabetes_grid = GridSearchCV(\n",
    "    estimator = diabetes_pipe,\n",
    "    param_grid = diabetes_grid,\n",
    "    cv = 5\n",
    ")\n",
    "accuracies_grid = pd.DataFrame(\n",
    "    diabetes_grid.fit(\n",
    "        diabetes_train[[\"age\", \"bmi\", \"HbA1c_level\", \"blood_glucose_level\"]],\n",
    "        diabetes_train[\"diabetes\"],\n",
    "    ).cv_results_\n",
    ")\n",
    "accuracies_grid = (\n",
    "    accuracies_grid[[\n",
    "        \"param_kneighborsclassifier__n_neighbors\",\n",
    "        \"mean_test_score\",\n",
    "        \"std_test_score\"\n",
    "    ]]\n",
    "    .assign(sem_test_score=accuracies_grid[\"std_test_score\"] / 10**(1/2))\n",
    "    .rename(columns={\"param_kneighborsclassifier__n_neighbors\": \"n_neighbors\"})\n",
    "    .drop(columns=[\"std_test_score\"])\n",
    ")\n",
    "accuracies_grid"
   ]
  },
  {
   "cell_type": "code",
   "execution_count": 26,
   "id": "4746781c-855a-43b5-b3f7-0d333bc350e5",
   "metadata": {
    "tags": []
   },
   "outputs": [
    {
     "data": {
      "text/html": [
       "\n",
       "<div id=\"altair-viz-eeea27b3cdaf4f0d9612e35769679452\"></div>\n",
       "<script type=\"text/javascript\">\n",
       "  var VEGA_DEBUG = (typeof VEGA_DEBUG == \"undefined\") ? {} : VEGA_DEBUG;\n",
       "  (function(spec, embedOpt){\n",
       "    let outputDiv = document.currentScript.previousElementSibling;\n",
       "    if (outputDiv.id !== \"altair-viz-eeea27b3cdaf4f0d9612e35769679452\") {\n",
       "      outputDiv = document.getElementById(\"altair-viz-eeea27b3cdaf4f0d9612e35769679452\");\n",
       "    }\n",
       "    const paths = {\n",
       "      \"vega\": \"https://cdn.jsdelivr.net/npm//vega@5?noext\",\n",
       "      \"vega-lib\": \"https://cdn.jsdelivr.net/npm//vega-lib?noext\",\n",
       "      \"vega-lite\": \"https://cdn.jsdelivr.net/npm//vega-lite@4.17.0?noext\",\n",
       "      \"vega-embed\": \"https://cdn.jsdelivr.net/npm//vega-embed@6?noext\",\n",
       "    };\n",
       "\n",
       "    function maybeLoadScript(lib, version) {\n",
       "      var key = `${lib.replace(\"-\", \"\")}_version`;\n",
       "      return (VEGA_DEBUG[key] == version) ?\n",
       "        Promise.resolve(paths[lib]) :\n",
       "        new Promise(function(resolve, reject) {\n",
       "          var s = document.createElement('script');\n",
       "          document.getElementsByTagName(\"head\")[0].appendChild(s);\n",
       "          s.async = true;\n",
       "          s.onload = () => {\n",
       "            VEGA_DEBUG[key] = version;\n",
       "            return resolve(paths[lib]);\n",
       "          };\n",
       "          s.onerror = () => reject(`Error loading script: ${paths[lib]}`);\n",
       "          s.src = paths[lib];\n",
       "        });\n",
       "    }\n",
       "\n",
       "    function showError(err) {\n",
       "      outputDiv.innerHTML = `<div class=\"error\" style=\"color:red;\">${err}</div>`;\n",
       "      throw err;\n",
       "    }\n",
       "\n",
       "    function displayChart(vegaEmbed) {\n",
       "      vegaEmbed(outputDiv, spec, embedOpt)\n",
       "        .catch(err => showError(`Javascript Error: ${err.message}<br>This usually means there's a typo in your chart specification. See the javascript console for the full traceback.`));\n",
       "    }\n",
       "\n",
       "    if(typeof define === \"function\" && define.amd) {\n",
       "      requirejs.config({paths});\n",
       "      require([\"vega-embed\"], displayChart, err => showError(`Error loading script: ${err.message}`));\n",
       "    } else {\n",
       "      maybeLoadScript(\"vega\", \"5\")\n",
       "        .then(() => maybeLoadScript(\"vega-lite\", \"4.17.0\"))\n",
       "        .then(() => maybeLoadScript(\"vega-embed\", \"6\"))\n",
       "        .catch(showError)\n",
       "        .then(() => displayChart(vegaEmbed));\n",
       "    }\n",
       "  })({\"config\": {\"view\": {\"continuousWidth\": 400, \"continuousHeight\": 300}}, \"data\": {\"name\": \"data-0a5033c11069143aea8f5c1bb4b58046\"}, \"mark\": {\"type\": \"line\", \"point\": true}, \"encoding\": {\"x\": {\"field\": \"n_neighbors\", \"type\": \"quantitative\"}, \"y\": {\"field\": \"mean_test_score\", \"scale\": {\"zero\": false}, \"title\": \"Mean Test Score\", \"type\": \"quantitative\"}}, \"title\": \"Ideal n_neighbors value based off Mean Test Score\", \"width\": 600, \"$schema\": \"https://vega.github.io/schema/vega-lite/v4.17.0.json\", \"datasets\": {\"data-0a5033c11069143aea8f5c1bb4b58046\": [{\"n_neighbors\": 1, \"mean_test_score\": 0.8730196078431373, \"sem_test_score\": 0.001770187564593325}, {\"n_neighbors\": 3, \"mean_test_score\": 0.8778823529411766, \"sem_test_score\": 0.0022481228018631106}, {\"n_neighbors\": 5, \"mean_test_score\": 0.8830588235294119, \"sem_test_score\": 0.0018616508653978821}, {\"n_neighbors\": 7, \"mean_test_score\": 0.887843137254902, \"sem_test_score\": 0.001568627450980392}, {\"n_neighbors\": 9, \"mean_test_score\": 0.8889411764705883, \"sem_test_score\": 0.0012944741042056718}, {\"n_neighbors\": 11, \"mean_test_score\": 0.8928627450980393, \"sem_test_score\": 0.0017527262227289226}, {\"n_neighbors\": 13, \"mean_test_score\": 0.8940392156862746, \"sem_test_score\": 0.0015908233573368063}, {\"n_neighbors\": 15, \"mean_test_score\": 0.8930196078431372, \"sem_test_score\": 0.001549689604420829}, {\"n_neighbors\": 17, \"mean_test_score\": 0.8926274509803921, \"sem_test_score\": 0.0011564306271728008}, {\"n_neighbors\": 19, \"mean_test_score\": 0.8937254901960785, \"sem_test_score\": 0.0009764627135677456}, {\"n_neighbors\": 21, \"mean_test_score\": 0.8939607843137255, \"sem_test_score\": 0.0007588007292516242}, {\"n_neighbors\": 23, \"mean_test_score\": 0.8945098039215686, \"sem_test_score\": 0.0013471030617504057}, {\"n_neighbors\": 25, \"mean_test_score\": 0.8945882352941178, \"sem_test_score\": 0.0008352112634964152}, {\"n_neighbors\": 27, \"mean_test_score\": 0.8948235294117648, \"sem_test_score\": 0.0008203486660387684}, {\"n_neighbors\": 29, \"mean_test_score\": 0.8952156862745099, \"sem_test_score\": 0.0009126392600965574}, {\"n_neighbors\": 31, \"mean_test_score\": 0.8965490196078431, \"sem_test_score\": 0.0005284668400917086}, {\"n_neighbors\": 33, \"mean_test_score\": 0.8948235294117648, \"sem_test_score\": 0.0005046496609300597}, {\"n_neighbors\": 35, \"mean_test_score\": 0.8949803921568626, \"sem_test_score\": 0.0006245028780359022}, {\"n_neighbors\": 37, \"mean_test_score\": 0.8949019607843137, \"sem_test_score\": 0.0008976880895889941}, {\"n_neighbors\": 39, \"mean_test_score\": 0.8956078431372548, \"sem_test_score\": 0.0005107080971325438}, {\"n_neighbors\": 41, \"mean_test_score\": 0.8941176470588236, \"sem_test_score\": 0.0007188354031303306}, {\"n_neighbors\": 43, \"mean_test_score\": 0.8953725490196078, \"sem_test_score\": 0.0002529335764172072}, {\"n_neighbors\": 45, \"mean_test_score\": 0.8943529411764706, \"sem_test_score\": 0.0002892406104248731}, {\"n_neighbors\": 47, \"mean_test_score\": 0.8938823529411766, \"sem_test_score\": 0.0004997500336336902}, {\"n_neighbors\": 49, \"mean_test_score\": 0.8939607843137255, \"sem_test_score\": 0.0008210981853052461}, {\"n_neighbors\": 51, \"mean_test_score\": 0.8932549019607843, \"sem_test_score\": 0.0008534256005481142}, {\"n_neighbors\": 53, \"mean_test_score\": 0.8931764705882352, \"sem_test_score\": 0.0007628433829513933}, {\"n_neighbors\": 55, \"mean_test_score\": 0.8928627450980393, \"sem_test_score\": 0.0009392136395245648}, {\"n_neighbors\": 57, \"mean_test_score\": 0.8926274509803921, \"sem_test_score\": 0.0008570220159779018}, {\"n_neighbors\": 59, \"mean_test_score\": 0.8934901960784314, \"sem_test_score\": 0.0008432740427115636}]}}, {\"mode\": \"vega-lite\"});\n",
       "</script>"
      ],
      "text/plain": [
       "alt.Chart(...)"
      ]
     },
     "execution_count": 26,
     "metadata": {},
     "output_type": "execute_result"
    }
   ],
   "source": [
    "accuracy = alt.Chart(accuracies_grid).mark_line(point=True).encode(\n",
    "    x = alt.X(\"n_neighbors\"),\n",
    "    y = alt.Y(\"mean_test_score\", title='Mean Test Score', scale=alt.Scale(zero=False)),\n",
    ").properties(\n",
    "    title='Ideal n_neighbors value based off Mean Test Score',\n",
    "    width=600\n",
    ")\n",
    "accuracy"
   ]
  },
  {
   "cell_type": "markdown",
   "id": "ff0361c9-2c0d-4f2f-8803-135596206294",
   "metadata": {
    "tags": []
   },
   "source": [
    "Based off `accuracies_grid` and our accuracy plot, we can see that `KNeighborsClassifier()` will perform best when `n_neighbors = 31` based off mean test score. Although `n_neighbors = 33` has a high `sem_test_score` such that there may be more variability in the mean test score, it will likely perform better than all other `n_neighbors` values up to `n_neighbors = 60`. There is a possibility of a better `n_neighbors` value past 60, however we will be unable to determine such value due to limited computational power."
   ]
  },
  {
   "cell_type": "code",
   "execution_count": 27,
   "id": "3a8f6920-9832-43d0-a9a8-9c97b0b56145",
   "metadata": {
    "tags": []
   },
   "outputs": [
    {
     "name": "stdout",
     "output_type": "stream",
     "text": [
      "average cv score: 0.8965490196078431 ± 0.0016711588825617852\n"
     ]
    }
   ],
   "source": [
    "diabetes_pipe_knn_31 = make_pipeline(diabetes_preprocessor, KNeighborsClassifier(n_neighbors=31))\n",
    "\n",
    "X_train = diabetes_train[[\"age\", \"bmi\", \"HbA1c_level\", \"blood_glucose_level\"]]\n",
    "y_train = diabetes_train[\"diabetes\"]\n",
    "\n",
    "cv_scores = cross_val_score(diabetes_pipe_knn_31, X_train, y_train, cv=5, scoring='accuracy')\n",
    "\n",
    "cv_scores_std = np.std(cv_scores)\n",
    "print(\"average cv score:\", cv_scores.mean(), \"±\", cv_scores_std)"
   ]
  },
  {
   "cell_type": "markdown",
   "id": "23a44329-dd12-415e-9be8-964fc1d73c47",
   "metadata": {
    "tags": []
   },
   "source": [
    "After performing a cross-validation where cv=5, our model has an accuracy of 0.89655 with a standard deviation of 0.00167. A high accuracy may indicate that our model is able to correctly make predictions, and a low standard deviation indicates that our model is likely not underfitting nor overfitting. "
   ]
  },
  {
   "cell_type": "code",
   "execution_count": null,
   "id": "4a39ae24-c222-463b-a53f-e904cdfe1e99",
   "metadata": {
    "tags": []
   },
   "outputs": [],
   "source": []
  },
  {
   "cell_type": "markdown",
   "id": "4f66cb07-b96c-455f-ac6a-5a42230a0f62",
   "metadata": {},
   "source": [
    "### Feature Selection\n",
    "So far, we have found a feature set that allows us to train a relatively decent model. However, we would like to see whether there is another pool of features which may produce a more accurate model. To do this, we will separate our data into numerical features, binary features, and categorical features. We will also drop 'gender', as it may introduce bias into our final model. We could choose to represent 'gender' as a binary feature or an ordinal feature, but we believe it is best to not to include it at all.\n",
    "\n",
    "We will pass all numerical features through `StandardScaler()` like previously, but this time we will pass categorical features (`smoking_history`) through `OrdinalEncoder()`, as we will choose to interpret smoking history as different levels of smoking intensity (never < former < current). However, we would also like to note that that 'no info' may affect our results, and using `OneHotEncoder()` is another option to consider in the future.\n",
    "\n",
    "As for our binary features, we will use 'passthrough' as they do not need any additional processing to be used in `KNeighborsClassifier()`.\n",
    "\n",
    "Lastly, we need to consider that the previous `n_neighbors=31` hyperparamater that we found is specific to the feature set containing only numerical features. Thus, we will use the default value of `n_neighbors=5` in our `KNeighborsClassifier()`."
   ]
  },
  {
   "cell_type": "code",
   "execution_count": 28,
   "id": "89ec42ce-7349-446d-b4e4-eb6f44fa8a1e",
   "metadata": {
    "tags": []
   },
   "outputs": [
    {
     "name": "stdout",
     "output_type": "stream",
     "text": [
      "average cv score: 0.8898823529411766 ± 0.005531497312158574\n"
     ]
    }
   ],
   "source": [
    "X_train = diabetes_train.drop(columns=['diabetes', 'gender'])\n",
    "y_train = diabetes_train['diabetes']\n",
    "X_test = diabetes_train.drop(columns=['diabetes', 'gender'])\n",
    "y_test = diabetes_train['diabetes']\n",
    "\n",
    "numerical_features = ['age', 'bmi', 'HbA1c_level', 'blood_glucose_level']\n",
    "binary_features = ['hypertension', 'heart_disease'] ## No need to perform any preprocessing\n",
    "categorical_features = ['smoking_history', ]\n",
    "\n",
    "preprocessor_all = make_column_transformer(\n",
    "    (StandardScaler(), numerical_features),\n",
    "    (OrdinalEncoder(), categorical_features),\n",
    "    ('passthrough', binary_features)\n",
    ")\n",
    "\n",
    "X_train_transformed = preprocessor_all.fit_transform(X_train)\n",
    "X_test_transformed = preprocessor_all.fit_transform(X_test)\n",
    "y_train_transformed = y_train\n",
    "y_test_transformed = y_test\n",
    "\n",
    "pipe = make_pipeline(preprocessor_all, KNeighborsClassifier())\n",
    "\n",
    "cv_scores = cross_val_score(pipe, X_train, y_train, cv=5, scoring='accuracy')\n",
    "\n",
    "cv_scores_std = np.std(cv_scores)\n",
    "print(\"average cv score:\", cv_scores.mean(), \"±\", cv_scores_std)"
   ]
  },
  {
   "cell_type": "markdown",
   "id": "37fa7e76-3baf-4173-8d6e-a3290becb9c7",
   "metadata": {},
   "source": [
    "Our score has decreased from our previous model. Let's see if we can select an ideal combinations of features by manually sifting through all combinations and finding the set with the best score."
   ]
  },
  {
   "cell_type": "code",
   "execution_count": 29,
   "id": "c5787eba-0900-4ed4-acc9-79805f1a81c7",
   "metadata": {
    "tags": []
   },
   "outputs": [
    {
     "name": "stdout",
     "output_type": "stream",
     "text": [
      "Feature Combination: ('age', 'hypertension', 'heart_disease', 'bmi', 'HbA1c_level', 'blood_glucose_level'), Score: 0.8909803921568628\n",
      "Feature Combination: ('age', 'hypertension', 'smoking_history', 'bmi', 'HbA1c_level', 'blood_glucose_level'), Score: 0.8904313725490196\n",
      "Feature Combination: ('age', 'hypertension', 'heart_disease', 'smoking_history', 'bmi', 'HbA1c_level', 'blood_glucose_level'), Score: 0.8898823529411766\n",
      "Feature Combination: ('age', 'hypertension', 'bmi', 'HbA1c_level', 'blood_glucose_level'), Score: 0.8889411764705881\n",
      "Feature Combination: ('age', 'smoking_history', 'bmi', 'HbA1c_level', 'blood_glucose_level'), Score: 0.8871372549019607\n",
      "Feature Combination: ('age', 'heart_disease', 'smoking_history', 'bmi', 'HbA1c_level', 'blood_glucose_level'), Score: 0.8864313725490197\n",
      "Feature Combination: ('age', 'hypertension', 'smoking_history', 'HbA1c_level', 'blood_glucose_level'), Score: 0.8853333333333333\n",
      "Feature Combination: ('age', 'hypertension', 'heart_disease', 'smoking_history', 'HbA1c_level', 'blood_glucose_level'), Score: 0.8836862745098039\n",
      "Feature Combination: ('age', 'bmi', 'HbA1c_level', 'blood_glucose_level'), Score: 0.8830588235294119\n",
      "Feature Combination: ('age', 'heart_disease', 'bmi', 'HbA1c_level', 'blood_glucose_level'), Score: 0.8825882352941177\n"
     ]
    }
   ],
   "source": [
    "from sklearn.model_selection import cross_val_score\n",
    "from itertools import combinations\n",
    "\n",
    "## Used ChatGPT to help iterate over all possible combinations of features as to select the top ten feature sets with the greatest score\n",
    "\n",
    "def score_feature_combinations(X, y, model, preprocessors):\n",
    "    scores = []\n",
    "\n",
    "    for r in range(1, len(X.columns) + 1):\n",
    "        for feature_combination in combinations(X.columns, r):\n",
    "            preprocessor = make_column_transformer(\n",
    "                (StandardScaler(), [feature for feature in feature_combination if feature in numerical_features]),\n",
    "                (OrdinalEncoder(), [feature for feature in feature_combination if feature in categorical_features]),\n",
    "                ('passthrough', [feature for feature in feature_combination if feature in binary_features])\n",
    "            )\n",
    "\n",
    "            pipe = make_pipeline(preprocessor, model)\n",
    "\n",
    "            avg_score = cross_val_score(pipe, X, y, cv=5, scoring='accuracy').mean()\n",
    "            scores.append((feature_combination, avg_score))\n",
    "    scores.sort(key=lambda x: x[1], reverse=True)\n",
    "\n",
    "    return scores\n",
    "\n",
    "knn_model = KNeighborsClassifier()\n",
    "feature_combination_scores = score_feature_combinations(X_train, y_train, knn_model, preprocessor_all)\n",
    "\n",
    "for feature_combination, score in feature_combination_scores[:10]:\n",
    "    print(f\"Feature Combination: {feature_combination}, Score: {score}\")"
   ]
  },
  {
   "cell_type": "markdown",
   "id": "f5336741-128c-4e63-811f-d374927c0ee2",
   "metadata": {
    "tags": []
   },
   "source": [
    "The feature combination of `'age', 'hypertension', 'heart_disease', 'bmi', 'HbA1c_level', 'blood_glucose_level'` produces a model with a score of 0.89098, slightly outperforming our model which considers all features (0.88988) and the model which only considers only numerical features with hyperparameter optimization (0.88306).\n",
    "\n",
    "There is other information we can infer from our feature combinations. `age, blood_glucose_level` and `HbA1c_level` seem to be the most important features to consider when predicting if a patient has diabetes as these three features all appear in top ten feature combinations. However, the addition of `hypertension`, `bmi` and/or `smoking_history` are necessary to help improve the accuracy of our models. "
   ]
  },
  {
   "cell_type": "code",
   "execution_count": 30,
   "id": "689d4113-9dcc-4763-8047-7d782ae7cfe5",
   "metadata": {
    "tags": []
   },
   "outputs": [
    {
     "name": "stdout",
     "output_type": "stream",
     "text": [
      "average cv score: 0.8909803921568628 ± 0.005531497312158574\n"
     ]
    }
   ],
   "source": [
    "X_train_opt = diabetes_train.drop(columns=['diabetes', 'gender', 'smoking_history'])\n",
    "y_train_opt = diabetes_train['diabetes']\n",
    "X_test_opt = diabetes_train.drop(columns=['diabetes', 'gender', 'smoking_history'])\n",
    "y_test_opt = diabetes_train['diabetes']\n",
    "\n",
    "numerical_features_opt = ['age', 'bmi', 'HbA1c_level', 'blood_glucose_level']\n",
    "binary_features_opt = ['hypertension', 'heart_disease'] ## No need to perform any preprocessing\n",
    "\n",
    "preprocessor_opt = make_column_transformer(\n",
    "    (StandardScaler(), numerical_features_opt),\n",
    "    ('passthrough', binary_features_opt)\n",
    ")\n",
    "\n",
    "X_train_transformed_opt = preprocessor_opt.fit_transform(X_train_opt)\n",
    "X_test_transformed_opt = preprocessor_opt.fit_transform(X_test_opt)\n",
    "y_train_transformed_opt = y_train_opt\n",
    "y_test_transformed_opt = y_test_opt\n",
    "\n",
    "pipe_opt = make_pipeline(preprocessor_opt, KNeighborsClassifier())\n",
    "\n",
    "cv_scores_opt = cross_val_score(pipe_opt, X_train_opt, y_train_opt, cv=5, scoring='accuracy')\n",
    "\n",
    "cv_scores_opt_std = np.std(cv_scores)\n",
    "print(\"average cv score:\", cv_scores_opt.mean(), \"±\", cv_scores_opt_std)"
   ]
  },
  {
   "cell_type": "markdown",
   "id": "cfd26669-e843-485c-bfa3-012cdeabe715",
   "metadata": {},
   "source": [
    "To further improve our model accuracy, we could perform hyperparamater optimization on `n_neighbors`. However due to time constraints, we will continue working with our model using the default value of `n_neighbors=5`."
   ]
  },
  {
   "cell_type": "markdown",
   "id": "916e27fc-c88c-43c7-87bd-b8c2127f6bd8",
   "metadata": {},
   "source": [
    "TODO:  compare test score with numerical features only model, use model on new observation(s), write a conclusion"
   ]
  },
  {
   "cell_type": "code",
   "execution_count": 31,
   "id": "4d126d23-ebf5-4071-8e4e-8557eac19797",
   "metadata": {},
   "outputs": [
    {
     "name": "stdout",
     "output_type": "stream",
     "text": [
      "Test set accuracy: 0.8967058823529411\n"
     ]
    }
   ],
   "source": [
    "#TODO: test scores for numerical features only, knn=31, and for optimized feature set\n",
    "diabetes_pipe_knn_31.fit(X_train, y_train)\n",
    "\n",
    "X_test = diabetes_test[[\"age\", \"bmi\", \"HbA1c_level\", \"blood_glucose_level\"]]\n",
    "y_test = diabetes_test[\"diabetes\"]\n",
    "\n",
    "test_score = diabetes_pipe_knn_31.score(X_test, y_test)\n",
    "print(\"Test set accuracy:\", test_score)"
   ]
  },
  {
   "cell_type": "code",
   "execution_count": 32,
   "id": "92672de5-b4d6-4eae-840c-f327971799a3",
   "metadata": {},
   "outputs": [],
   "source": [
    "# TODO: new observation(s) for both numerical features only, and for optimized feature set, discuss findings and results\n",
    "\n",
    "# new_observation = pd.DataFrame({\n",
    "#     \"age\": [26.0],  \n",
    "#     \"bmi\": [25.5],\n",
    "#     \"HbA1c_level\": [1.8],\n",
    "#     \"blood_glucose_level\": [170.0]\n",
    "# })\n",
    "\n",
    "# knn_fit = make_pipeline(diabetes_preprocessor, KNeighborsClassifier(n_neighbors=33)).fit(\n",
    "#     diabetes_downsampled[feature_names],\n",
    "#     diabetes_downsampled[\"diabetes\"]\n",
    "# )\n",
    "\n",
    "# new_prediction = knn_fit.predict(new_observation)\n",
    "# new_prediction"
   ]
  },
  {
   "cell_type": "markdown",
   "id": "ce7c1431-f50f-4751-a522-57b9df87b88c",
   "metadata": {},
   "source": [
    "## Discussion"
   ]
  },
  {
   "cell_type": "markdown",
   "id": "5d44083f-b5b8-4c5b-91b9-8bed2522e5e5",
   "metadata": {},
   "source": [
    "### Summary of Findings:\n",
    "\n",
    "In our investigation to predict the onset of diabetes using a classification approach, we explored multiple feature combinations and their corresponding scores. Notably, the feature combination (`age`, `hypertension`, `heart_disease`, `bmi`, `HbA1c_level`, `blood_glucose_level`) emerged as the top performer with a score of 0.89098. This combination includes crucial variables such as age, hypertension, heart disease, BMI, HbA1c level, and blood glucose level."
   ]
  },
  {
   "cell_type": "markdown",
   "id": "1370f654-2851-4316-aad5-473166dbe89c",
   "metadata": {},
   "source": [
    "### Expectations vs. Findings:\n",
    "\n",
    "Our findings align with expectations to a considerable extent. The inclusion of age, hypertension, presence of heart disease, and indicators of metabolic health (BMI, HbA1c, blood glucose) is consistent with established medical knowledge linking these factors to diabetes risk. However, the presence of age, blood glucose level, and HbA1c level are most crucial since these variables appear in all top ten feature combinations."
   ]
  },
  {
   "cell_type": "markdown",
   "id": "cd0d58f0-14f9-4e75-864d-7a6d97711cd8",
   "metadata": {},
   "source": [
    "### Impact of Findings:\n",
    "\n",
    "Finding the best combination of features is important for predicting diabetes earlier on. Achieving a high score with the selected features highlights their predictive relevance, potentially enabling healthcare professionals to proactively identify individuals at risk. This can facilitate early intervention and lifestyle modifications, contributing to improved patient outcomes and reduced healthcare costs."
   ]
  },
  {
   "cell_type": "markdown",
   "id": "ddd51aa7-159f-4487-bab0-4fe36d9fd474",
   "metadata": {},
   "source": [
    "### Future Questions and Considerations:\n",
    "\n",
    "Our findings creates opportunities for more in-depth exploration and improvement of models predicting the onset of diabetes. Future studies could look closely at how specific demographic and medical factors interact, aiming to find subtle details that make predictions more accurate. It is also valuable to check if the effectiveness of certain features changes over time or with different health habits.\n",
    "\n",
    "Moreover, checking our results on different datasets can make our findings more widely applicable. For instance, bringing in genetic data and exploring new technologies such as wearables and continuous glucose monitoring could add more details to improve our predictive models.\n",
    "\n",
    "In summary, our analysis offers valuable insights into which features predict diabetes early, suggesting the potential for timely intervention. The unexpected absence of certain variables leaves room for more questions, emphasizing the changing nature of predictive modeling in healthcare. As we navigate these findings, continuous research efforts can refine models and contribute to the ever-evolving field of predictive analytics in healthcare."
   ]
  },
  {
   "cell_type": "markdown",
   "id": "05d385ba-350b-4c75-8317-398f1f7b441a",
   "metadata": {},
   "source": [
    "## References\n",
    "Herman, W. H., Robinson, N., & Aubert, R. E. (2005). Predicting the Development of Diabetes in Older Adults. Diabetes Care, 28(2), 404-408. https://doi.org/10.2337/diacare.28.2.404\n",
    "\n",
    "Zhang, P., Zhang, X., Brown, J., Vistisen, D., Sicree, R., Shaw, J., & Nichols, G. (2016). Big Data Approaches for Predicting the Onset of Type 2 Diabetes Mellitus in a Chinese Hospital Database. Diabetes Care, 39(7), 1095-1101. https://doi.org/10.2337/dc15-2042"
   ]
  }
 ],
 "metadata": {
  "kernelspec": {
   "display_name": "Python 3 (ipykernel)",
   "language": "python",
   "name": "python3"
  },
  "language_info": {
   "codemirror_mode": {
    "name": "ipython",
    "version": 3
   },
   "file_extension": ".py",
   "mimetype": "text/x-python",
   "name": "python",
   "nbconvert_exporter": "python",
   "pygments_lexer": "ipython3",
   "version": "3.10.8"
  }
 },
 "nbformat": 4,
 "nbformat_minor": 5
}
